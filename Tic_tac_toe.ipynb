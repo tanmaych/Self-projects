{
  "nbformat": 4,
  "nbformat_minor": 0,
  "metadata": {
    "colab": {
      "name": "Tic_tac_toe.ipynb",
      "provenance": []
    },
    "kernelspec": {
      "name": "python3",
      "display_name": "Python 3"
    },
    "language_info": {
      "name": "python"
    }
  },
  "cells": [
    {
      "cell_type": "code",
      "metadata": {
        "id": "ctQX3wFPyyXS"
      },
      "source": [
        "#dictionary to store the value input by user from 'X' or 'O'\n",
        "board = { 7 : \" \" ,8 : \" \", 9 : \" \",\n",
        "          4 : \" \" ,5 : \" \", 6 : \" \",\n",
        "          1 : \" \" ,2 : \" \", 3 : \" \"\n",
        "        }\n",
        "def printboard(board):\n",
        "  print(board[7] + \"|\" + board[8] + \"|\" +board[9] )\n",
        "  print(\"+++++\")\n",
        "  print(board[4] + \"|\" + board[5] + \"|\" +board[6] )\n",
        "  print(\"+++++\")\n",
        "  print(board[1] + \"|\" + board[2] + \"|\" +board[3] )"
      ],
      "execution_count": null,
      "outputs": []
    },
    {
      "cell_type": "code",
      "metadata": {
        "id": "Pyzfux1Cb4uF"
      },
      "source": [
        "def game():\n",
        " turn = \"X\"\n",
        " count = 0\n",
        " while 1 :\n",
        "  printboard(board)\n",
        "  pos = input(\"Where do you want to play:\")\n",
        "  if (board[int(pos)] == ' ') :\n",
        "    board[int(pos)] = turn\n",
        "    count += 1\n",
        "    printboard(board)\n",
        "  else:\n",
        "    print('This place is already filled.Please select another place')\n",
        "    continue\n",
        "  if (count >= 5):\n",
        "    if((board[7] == board[8]) and (board[7] == board[9])):\n",
        "      print(\"YOU WIN \" + turn)\n",
        "      break\n",
        "    elif ((board[4] == board[5]) and (board[4] == board[6])):\n",
        "      print(\"YOU WIN \" + turn)\n",
        "      break\n",
        "    elif ((board[1] == board[2]) and (board[1] == board[3])):\n",
        "      print(\"YOU WIN \" + turn)\n",
        "      break\n",
        "    elif ((board[4] == board[7]) and (board[4] == board[1])):\n",
        "      print(\"YOU WIN \" + turn)\n",
        "      break\n",
        "    elif ((board[2] == board[5]) and (board[2] == board[8])):\n",
        "      print(\"YOU WIN \" + turn)\n",
        "      break\n",
        "    elif ((board[3] == board[6]) and (board[3] == board[9])):\n",
        "      print(\"YOU WIN \" + turn)\n",
        "      break\n",
        "    elif ((board[1] == board[5]) and (board[1] == board[9])):\n",
        "      print(\"YOU WIN \" + turn)\n",
        "      break\n",
        "    elif ((board[3] == board[5]) and (board[3] == board[7])):\n",
        "      print(\"YOU WIN \" + turn)\n",
        "      break\n",
        "  if count == 9 :\n",
        "    print(\"It is a tie\")\n",
        "    break\n",
        "  if turn == \"X\":\n",
        "    turn = \"O\"\n",
        "  else :\n",
        "    turn = \"X\"\n",
        " answer = input(\"Do you want to play again ? Enter Y/N\")\n",
        " if (answer == 'Y' or answer == 'y'):\n",
        "  boardkeys = [1,2,3,4,5,6,7,8,9]\n",
        "  for i in boardkeys :\n",
        "   board[i] = \" \"\n",
        "  game()\n",
        "  "
      ],
      "execution_count": null,
      "outputs": []
    },
    {
      "cell_type": "code",
      "metadata": {
        "colab": {
          "base_uri": "https://localhost:8080/"
        },
        "id": "xOz9xQtzd-Gi",
        "outputId": "66c97df3-e638-4ebe-e51b-6dc7e00d4a7b"
      },
      "source": [
        "game()"
      ],
      "execution_count": null,
      "outputs": [
        {
          "output_type": "stream",
          "text": [
            "Where do you want to play:1\n",
            " | | \n",
            "+++++\n",
            " | | \n",
            "+++++\n",
            "X| | \n",
            "Where do you want to play:5\n",
            " | | \n",
            "+++++\n",
            " |O| \n",
            "+++++\n",
            "X| | \n",
            "Where do you want to play:6\n",
            " | | \n",
            "+++++\n",
            " |O|X\n",
            "+++++\n",
            "X| | \n",
            "Where do you want to play:7\n",
            "O| | \n",
            "+++++\n",
            " |O|X\n",
            "+++++\n",
            "X| | \n",
            "Where do you want to play:3\n",
            "O| | \n",
            "+++++\n",
            " |O|X\n",
            "+++++\n",
            "X| |X\n",
            "Where do you want to play:2\n",
            "O| | \n",
            "+++++\n",
            " |O|X\n",
            "+++++\n",
            "X|O|X\n",
            "Where do you want to play:8\n",
            "O|X| \n",
            "+++++\n",
            " |O|X\n",
            "+++++\n",
            "X|O|X\n",
            "Where do you want to play:4\n",
            "O|X| \n",
            "+++++\n",
            "O|O|X\n",
            "+++++\n",
            "X|O|X\n",
            "Where do you want to play:9\n",
            "O|X|X\n",
            "+++++\n",
            "O|O|X\n",
            "+++++\n",
            "X|O|X\n",
            "YOU WIN X\n",
            "Do you want to play again ? Enter Y/NN\n"
          ],
          "name": "stdout"
        }
      ]
    }
  ]
}